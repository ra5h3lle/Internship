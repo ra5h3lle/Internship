{
 "cells": [
  {
   "cell_type": "markdown",
   "id": "1ef418b0",
   "metadata": {},
   "source": [
    "### Part 1\n",
    "On Shopify, we have exactly 100 sneaker shops, and each of these shops sells only one model of shoe. We want to do some analysis of the average order value (AOV). When we look at orders data over a 30 day window, we naively calculate an AOV of $3145.13. Given that we know these shops are selling sneakers, a relatively affordable item, something seems wrong with our analysis. \n",
    "\n",
    "We are to determine using three questions if the calculation of AOV is accurate and if not which better metric could we use."
   ]
  },
  {
   "cell_type": "markdown",
   "id": "22fc4ba7",
   "metadata": {},
   "source": [
    "#### Importing the necessary libraries"
   ]
  },
  {
   "cell_type": "code",
   "execution_count": 1,
   "id": "a7330a0b",
   "metadata": {},
   "outputs": [],
   "source": [
    "import matplotlib as mpl\n",
    "import matplotlib.pyplot as plt \n",
    "import seaborn as sns\n",
    "import pandas as pd\n",
    "sns.set_style(\"darkgrid\")\n",
    "mpl.rcParams['figure.figsize'] = (20,5)"
   ]
  },
  {
   "cell_type": "markdown",
   "id": "76af5c81",
   "metadata": {},
   "source": [
    "\n",
    "\n",
    "\n",
    "#### Reading the CSV file \n",
    "This data set is publicly provided in the shopify data science intern job posting and has been downloaded and saved as a csv file"
   ]
  },
  {
   "cell_type": "code",
   "execution_count": 2,
   "id": "090e704e",
   "metadata": {},
   "outputs": [],
   "source": [
    "# Reading the csv file\n",
    "\n",
    "shop_stores = pd.read_csv(r'C:\\Users\\Public\\Documents\\Shopify Application\\Data Science Intern Challenge Data Set - Sheet1.csv')"
   ]
  },
  {
   "cell_type": "markdown",
   "id": "32698a4c",
   "metadata": {},
   "source": [
    "After our data containg the shopify stores have been read, The next step is to visually inspect the data and makesure it has been read properly. The first 10 rows of the data would be printed for the visual inspection. We would also check for null values and makesure the data types for the columns of interest are read properly"
   ]
  },
  {
   "cell_type": "code",
   "execution_count": 3,
   "id": "0fe87d66",
   "metadata": {},
   "outputs": [
    {
     "data": {
      "text/html": [
       "<div>\n",
       "<style scoped>\n",
       "    .dataframe tbody tr th:only-of-type {\n",
       "        vertical-align: middle;\n",
       "    }\n",
       "\n",
       "    .dataframe tbody tr th {\n",
       "        vertical-align: top;\n",
       "    }\n",
       "\n",
       "    .dataframe thead th {\n",
       "        text-align: right;\n",
       "    }\n",
       "</style>\n",
       "<table border=\"1\" class=\"dataframe\">\n",
       "  <thead>\n",
       "    <tr style=\"text-align: right;\">\n",
       "      <th></th>\n",
       "      <th>order_id</th>\n",
       "      <th>shop_id</th>\n",
       "      <th>user_id</th>\n",
       "      <th>order_amount</th>\n",
       "      <th>total_items</th>\n",
       "      <th>payment_method</th>\n",
       "      <th>created_at</th>\n",
       "    </tr>\n",
       "  </thead>\n",
       "  <tbody>\n",
       "    <tr>\n",
       "      <th>0</th>\n",
       "      <td>1</td>\n",
       "      <td>53</td>\n",
       "      <td>746</td>\n",
       "      <td>224</td>\n",
       "      <td>2</td>\n",
       "      <td>cash</td>\n",
       "      <td>2017-03-13 12:36:56</td>\n",
       "    </tr>\n",
       "    <tr>\n",
       "      <th>1</th>\n",
       "      <td>2</td>\n",
       "      <td>92</td>\n",
       "      <td>925</td>\n",
       "      <td>90</td>\n",
       "      <td>1</td>\n",
       "      <td>cash</td>\n",
       "      <td>2017-03-03 17:38:52</td>\n",
       "    </tr>\n",
       "    <tr>\n",
       "      <th>2</th>\n",
       "      <td>3</td>\n",
       "      <td>44</td>\n",
       "      <td>861</td>\n",
       "      <td>144</td>\n",
       "      <td>1</td>\n",
       "      <td>cash</td>\n",
       "      <td>2017-03-14 4:23:56</td>\n",
       "    </tr>\n",
       "    <tr>\n",
       "      <th>3</th>\n",
       "      <td>4</td>\n",
       "      <td>18</td>\n",
       "      <td>935</td>\n",
       "      <td>156</td>\n",
       "      <td>1</td>\n",
       "      <td>credit_card</td>\n",
       "      <td>2017-03-26 12:43:37</td>\n",
       "    </tr>\n",
       "    <tr>\n",
       "      <th>4</th>\n",
       "      <td>5</td>\n",
       "      <td>18</td>\n",
       "      <td>883</td>\n",
       "      <td>156</td>\n",
       "      <td>1</td>\n",
       "      <td>credit_card</td>\n",
       "      <td>2017-03-01 4:35:11</td>\n",
       "    </tr>\n",
       "    <tr>\n",
       "      <th>5</th>\n",
       "      <td>6</td>\n",
       "      <td>58</td>\n",
       "      <td>882</td>\n",
       "      <td>138</td>\n",
       "      <td>1</td>\n",
       "      <td>credit_card</td>\n",
       "      <td>2017-03-14 15:25:01</td>\n",
       "    </tr>\n",
       "    <tr>\n",
       "      <th>6</th>\n",
       "      <td>7</td>\n",
       "      <td>87</td>\n",
       "      <td>915</td>\n",
       "      <td>149</td>\n",
       "      <td>1</td>\n",
       "      <td>cash</td>\n",
       "      <td>2017-03-01 21:37:57</td>\n",
       "    </tr>\n",
       "    <tr>\n",
       "      <th>7</th>\n",
       "      <td>8</td>\n",
       "      <td>22</td>\n",
       "      <td>761</td>\n",
       "      <td>292</td>\n",
       "      <td>2</td>\n",
       "      <td>cash</td>\n",
       "      <td>2017-03-08 2:05:38</td>\n",
       "    </tr>\n",
       "    <tr>\n",
       "      <th>8</th>\n",
       "      <td>9</td>\n",
       "      <td>64</td>\n",
       "      <td>914</td>\n",
       "      <td>266</td>\n",
       "      <td>2</td>\n",
       "      <td>debit</td>\n",
       "      <td>2017-03-17 20:56:50</td>\n",
       "    </tr>\n",
       "    <tr>\n",
       "      <th>9</th>\n",
       "      <td>10</td>\n",
       "      <td>52</td>\n",
       "      <td>788</td>\n",
       "      <td>146</td>\n",
       "      <td>1</td>\n",
       "      <td>credit_card</td>\n",
       "      <td>2017-03-30 21:08:26</td>\n",
       "    </tr>\n",
       "  </tbody>\n",
       "</table>\n",
       "</div>"
      ],
      "text/plain": [
       "   order_id  shop_id  user_id  order_amount  total_items payment_method  \\\n",
       "0         1       53      746           224            2           cash   \n",
       "1         2       92      925            90            1           cash   \n",
       "2         3       44      861           144            1           cash   \n",
       "3         4       18      935           156            1    credit_card   \n",
       "4         5       18      883           156            1    credit_card   \n",
       "5         6       58      882           138            1    credit_card   \n",
       "6         7       87      915           149            1           cash   \n",
       "7         8       22      761           292            2           cash   \n",
       "8         9       64      914           266            2          debit   \n",
       "9        10       52      788           146            1    credit_card   \n",
       "\n",
       "            created_at  \n",
       "0  2017-03-13 12:36:56  \n",
       "1  2017-03-03 17:38:52  \n",
       "2   2017-03-14 4:23:56  \n",
       "3  2017-03-26 12:43:37  \n",
       "4   2017-03-01 4:35:11  \n",
       "5  2017-03-14 15:25:01  \n",
       "6  2017-03-01 21:37:57  \n",
       "7   2017-03-08 2:05:38  \n",
       "8  2017-03-17 20:56:50  \n",
       "9  2017-03-30 21:08:26  "
      ]
     },
     "execution_count": 3,
     "metadata": {},
     "output_type": "execute_result"
    }
   ],
   "source": [
    "# print out the first 20 rows\n",
    "\n",
    "shop_stores.head(10)"
   ]
  },
  {
   "cell_type": "code",
   "execution_count": 4,
   "id": "9cb7dac2",
   "metadata": {},
   "outputs": [
    {
     "name": "stdout",
     "output_type": "stream",
     "text": [
      "<class 'pandas.core.frame.DataFrame'>\n",
      "RangeIndex: 5000 entries, 0 to 4999\n",
      "Data columns (total 7 columns):\n",
      " #   Column          Non-Null Count  Dtype \n",
      "---  ------          --------------  ----- \n",
      " 0   order_id        5000 non-null   int64 \n",
      " 1   shop_id         5000 non-null   int64 \n",
      " 2   user_id         5000 non-null   int64 \n",
      " 3   order_amount    5000 non-null   int64 \n",
      " 4   total_items     5000 non-null   int64 \n",
      " 5   payment_method  5000 non-null   object\n",
      " 6   created_at      5000 non-null   object\n",
      "dtypes: int64(5), object(2)\n",
      "memory usage: 273.6+ KB\n"
     ]
    }
   ],
   "source": [
    "# Printing the information from the imported file to perform quick sanity check\n",
    "shop_stores.info()"
   ]
  },
  {
   "cell_type": "code",
   "execution_count": 5,
   "id": "2c4cce99",
   "metadata": {},
   "outputs": [
    {
     "name": "stdout",
     "output_type": "stream",
     "text": [
      "100\n"
     ]
    }
   ],
   "source": [
    "# checking how many unique entries there are inthe data\n",
    "print(len(pd.unique(shop_stores['shop_id'])))"
   ]
  },
  {
   "cell_type": "markdown",
   "id": "b1e942a1",
   "metadata": {},
   "source": [
    "#### From our sanity check\n",
    "1. There are 5000 data points\n",
    "2. There are 100 unique stores that sell sneakers\n",
    "3. There are no null values \n",
    "4. The data type for all columns are properly attributed except the payment method and created at columns that have the data type object instead of string and datetime64. For the purpose of this analysis, these columns would not be converted as they are not needed"
   ]
  },
  {
   "cell_type": "markdown",
   "id": "5e798965",
   "metadata": {},
   "source": [
    "#### Question 1. Think about what could be going wrong with our calculation of AOV? Think about a better way to evaluate this data. \n",
    "\n",
    "#### Answer Summary\n",
    "\n",
    "The average order value of 3145.13 is skewed because of two assumptions that have been tested\n",
    "1. Some stores carry sneakers that are significantly more expensive than orders. Infact at least one store sells one sneaker for 25,725 dollars\n",
    "2. Two stores generally have higher orders than the rest and these two stores are shop id 42 and 78.\n",
    "\n",
    "With that being said, the average or mean would not be considered the better measure of central tendency\n",
    "\n"
   ]
  },
  {
   "cell_type": "markdown",
   "id": "9d2af9ae",
   "metadata": {},
   "source": [
    "Below is how I arrived at the answer"
   ]
  },
  {
   "cell_type": "code",
   "execution_count": 6,
   "id": "b57742c7",
   "metadata": {},
   "outputs": [
    {
     "data": {
      "text/plain": [
       "count      5000.000000\n",
       "mean       3145.128000\n",
       "std       41282.539349\n",
       "min          90.000000\n",
       "25%         163.000000\n",
       "50%         284.000000\n",
       "75%         390.000000\n",
       "max      704000.000000\n",
       "Name: order_amount, dtype: float64"
      ]
     },
     "execution_count": 6,
     "metadata": {},
     "output_type": "execute_result"
    }
   ],
   "source": [
    "# Describing the order amount column\n",
    "shop_stores.order_amount.describe()"
   ]
  },
  {
   "cell_type": "markdown",
   "id": "3f8d74d4",
   "metadata": {},
   "source": [
    "\n",
    "As shown above, the average order is calculated as 3145.13. However, two other calculations stand out and these are the minimum order and the maximum order. The minimum order amount is 90.00 and the maximum as shown is 704,000. This is such a large difference. One assumption could be that some stores carry sneakers that are way more expensive than others. To check this assumption, we would create a caluclated column to show the price per item sold."
   ]
  },
  {
   "cell_type": "markdown",
   "id": "ef66b81c",
   "metadata": {},
   "source": [
    "### Creating a calculated column for price per unit for the stores."
   ]
  },
  {
   "cell_type": "code",
   "execution_count": 7,
   "id": "b53a69fa",
   "metadata": {},
   "outputs": [
    {
     "data": {
      "text/html": [
       "<div>\n",
       "<style scoped>\n",
       "    .dataframe tbody tr th:only-of-type {\n",
       "        vertical-align: middle;\n",
       "    }\n",
       "\n",
       "    .dataframe tbody tr th {\n",
       "        vertical-align: top;\n",
       "    }\n",
       "\n",
       "    .dataframe thead th {\n",
       "        text-align: right;\n",
       "    }\n",
       "</style>\n",
       "<table border=\"1\" class=\"dataframe\">\n",
       "  <thead>\n",
       "    <tr style=\"text-align: right;\">\n",
       "      <th></th>\n",
       "      <th>order_id</th>\n",
       "      <th>shop_id</th>\n",
       "      <th>user_id</th>\n",
       "      <th>order_amount</th>\n",
       "      <th>total_items</th>\n",
       "      <th>payment_method</th>\n",
       "      <th>created_at</th>\n",
       "      <th>price_per_unit</th>\n",
       "    </tr>\n",
       "  </thead>\n",
       "  <tbody>\n",
       "    <tr>\n",
       "      <th>0</th>\n",
       "      <td>1</td>\n",
       "      <td>53</td>\n",
       "      <td>746</td>\n",
       "      <td>224</td>\n",
       "      <td>2</td>\n",
       "      <td>cash</td>\n",
       "      <td>2017-03-13 12:36:56</td>\n",
       "      <td>112.0</td>\n",
       "    </tr>\n",
       "    <tr>\n",
       "      <th>1</th>\n",
       "      <td>2</td>\n",
       "      <td>92</td>\n",
       "      <td>925</td>\n",
       "      <td>90</td>\n",
       "      <td>1</td>\n",
       "      <td>cash</td>\n",
       "      <td>2017-03-03 17:38:52</td>\n",
       "      <td>90.0</td>\n",
       "    </tr>\n",
       "    <tr>\n",
       "      <th>2</th>\n",
       "      <td>3</td>\n",
       "      <td>44</td>\n",
       "      <td>861</td>\n",
       "      <td>144</td>\n",
       "      <td>1</td>\n",
       "      <td>cash</td>\n",
       "      <td>2017-03-14 4:23:56</td>\n",
       "      <td>144.0</td>\n",
       "    </tr>\n",
       "    <tr>\n",
       "      <th>3</th>\n",
       "      <td>4</td>\n",
       "      <td>18</td>\n",
       "      <td>935</td>\n",
       "      <td>156</td>\n",
       "      <td>1</td>\n",
       "      <td>credit_card</td>\n",
       "      <td>2017-03-26 12:43:37</td>\n",
       "      <td>156.0</td>\n",
       "    </tr>\n",
       "    <tr>\n",
       "      <th>4</th>\n",
       "      <td>5</td>\n",
       "      <td>18</td>\n",
       "      <td>883</td>\n",
       "      <td>156</td>\n",
       "      <td>1</td>\n",
       "      <td>credit_card</td>\n",
       "      <td>2017-03-01 4:35:11</td>\n",
       "      <td>156.0</td>\n",
       "    </tr>\n",
       "  </tbody>\n",
       "</table>\n",
       "</div>"
      ],
      "text/plain": [
       "   order_id  shop_id  user_id  order_amount  total_items payment_method  \\\n",
       "0         1       53      746           224            2           cash   \n",
       "1         2       92      925            90            1           cash   \n",
       "2         3       44      861           144            1           cash   \n",
       "3         4       18      935           156            1    credit_card   \n",
       "4         5       18      883           156            1    credit_card   \n",
       "\n",
       "            created_at  price_per_unit  \n",
       "0  2017-03-13 12:36:56           112.0  \n",
       "1  2017-03-03 17:38:52            90.0  \n",
       "2   2017-03-14 4:23:56           144.0  \n",
       "3  2017-03-26 12:43:37           156.0  \n",
       "4   2017-03-01 4:35:11           156.0  "
      ]
     },
     "execution_count": 7,
     "metadata": {},
     "output_type": "execute_result"
    }
   ],
   "source": [
    "# Creating the column price per unit\n",
    "\n",
    "shop_stores['price_per_unit'] = shop_stores['order_amount'] / shop_stores['total_items']\n",
    "\n",
    "shop_stores.head()"
   ]
  },
  {
   "cell_type": "markdown",
   "id": "5a5cc028",
   "metadata": {},
   "source": [
    "\n",
    "Now that the Price per unit column has been created, the next step would be to describe the column now to check for the average prices in the store"
   ]
  },
  {
   "cell_type": "code",
   "execution_count": 8,
   "id": "c9b358cc",
   "metadata": {},
   "outputs": [
    {
     "data": {
      "text/plain": [
       "count     5000.000000\n",
       "mean       387.742800\n",
       "std       2441.963725\n",
       "min         90.000000\n",
       "25%        133.000000\n",
       "50%        153.000000\n",
       "75%        169.000000\n",
       "max      25725.000000\n",
       "Name: price_per_unit, dtype: float64"
      ]
     },
     "execution_count": 8,
     "metadata": {},
     "output_type": "execute_result"
    }
   ],
   "source": [
    "# what is the average prices in the store?\n",
    "shop_stores.price_per_unit.describe()"
   ]
  },
  {
   "cell_type": "markdown",
   "id": "01cd28aa",
   "metadata": {},
   "source": [
    "As we can see, on average the sneakers sell for 387 dollars. However, again pointing out that there is at least one store that sells the sneakers for 90 dollars and at least one store that sells sneakers for 25,725 dollars. So the assumption that some stores have sneakers that are way more expensive is considered true. This could skew our calulation of Average order Value.\n",
    "\n",
    "\n",
    "The next assumption to be considered is that the orders are significantly higher for some stores than others. To check for this assumption (or hypothesis) we would plot a scatter plot to show the order amounts versus the shop id. \n"
   ]
  },
  {
   "cell_type": "code",
   "execution_count": 9,
   "id": "543bd6de",
   "metadata": {},
   "outputs": [
    {
     "data": {
      "text/plain": [
       "<AxesSubplot:xlabel='shop_id', ylabel='order_amount'>"
      ]
     },
     "execution_count": 9,
     "metadata": {},
     "output_type": "execute_result"
    },
    {
     "data": {
      "image/png": "[encoded data removed]",
      "text/plain": [
       "<Figure size 1440x360 with 1 Axes>"
      ]
     },
     "metadata": {},
     "output_type": "display_data"
    }
   ],
   "source": [
    "# Plot a scatterplot using for total items vs the order amount\n",
    "\n",
    "sns.scatterplot(data = shop_stores, x = 'shop_id', y = 'order_amount')"
   ]
  },
  {
   "cell_type": "markdown",
   "id": "cca278ad",
   "metadata": {},
   "source": [
    "As shown in above, there are some stores that have signficantly higher orders than others. This could also potentially skew the results for the average order value. The next step would be to find which stores have order values higher than the average amount pf 3145.13"
   ]
  },
  {
   "cell_type": "code",
   "execution_count": 10,
   "id": "8acc55fb",
   "metadata": {},
   "outputs": [
    {
     "name": "stdout",
     "output_type": "stream",
     "text": [
      "15      42\n",
      "60      42\n",
      "160     78\n",
      "490     78\n",
      "493     78\n",
      "        ..\n",
      "4646    42\n",
      "4715    78\n",
      "4868    42\n",
      "4882    42\n",
      "4918    78\n",
      "Name: shop_id, Length: 63, dtype: int64\n"
     ]
    }
   ],
   "source": [
    "store_over_average= shop_stores[shop_stores['order_amount'] > 3145.13]\n",
    "print(store_over_average['shop_id'])"
   ]
  },
  {
   "cell_type": "markdown",
   "id": "4951023d",
   "metadata": {},
   "source": [
    "Our second assumption tests true. There are two stores that significantly have higher orders than the rest and those stores have the shop id 42 and 78. Again, these higher order amounts in these two stores would defintely skew our average order value"
   ]
  },
  {
   "cell_type": "markdown",
   "id": "700fb034",
   "metadata": {},
   "source": [
    "#### Question 2. What metric would you report for this dataset?\n",
    "\n",
    "#### Answer Summary to Question 2.\n",
    "\n",
    "Removing the outliers would not be a very good idea based on the explanation given above. There are three measures of central tendencies. Mean, median and mode. The mean generally would be a good measure however when there are data points that skew our data, the median would be considered the better measure of central tendencies. The median shows the mid point of the dataset and is not influenced by the outliers.\n",
    "\n",
    "\n",
    "Due to our findings, we have established that the mean is not the better measure of central tendency in our data.\n",
    "\n",
    "In order to determine a more accurate average order value we could remove the outliers and measure the average again. Let's take a loot at the Outliers.\n",
    "\n",
    "\n",
    "#### Should we remove the Outliers and recalculate the AOV?\n",
    "To identify the Outlier, we need to \n",
    "1. Define the quartiles Q1 and Q3.\n",
    "2. Calculate the Interquartile Range (Q3 - Q1)\n",
    "3. Create two new variables; Lower_Range (Q1 - 1.5x IQR) and Upper_Range ( Q3 + 1.5x IQR)\n",
    "4. Filter the DataFrame for outliers and remove them\n",
    "\n",
    "After, filtereing the dataframe for outlkiers and removing them then we would Calculate what the proportion of outliers exist (i.e. Number of entries left after outlier removal / Number of total entries in dataset)\n",
    "\n",
    "Generally an outlier is defined as any Value that is either Q1 - 1.5x IQR or greater than Q3 + 1.5x IQR.\n"
   ]
  },
  {
   "cell_type": "code",
   "execution_count": 11,
   "id": "da79702d",
   "metadata": {},
   "outputs": [
    {
     "name": "stdout",
     "output_type": "stream",
     "text": [
      "order_id          2499.5\n",
      "shop_id             51.0\n",
      "user_id            150.0\n",
      "order_amount       227.0\n",
      "total_items          2.0\n",
      "price_per_unit      36.0\n",
      "dtype: float64\n"
     ]
    }
   ],
   "source": [
    "# (i) Creating the 25th  and 75th percentile\n",
    "Q1 = shop_stores.quantile(0.25)\n",
    "Q3 = shop_stores.quantile(0.75)\n",
    "\n",
    "# (ii) Calculate the interquartile range\n",
    "IQR = Q3 - Q1\n",
    "print(IQR)"
   ]
  },
  {
   "cell_type": "code",
   "execution_count": 12,
   "id": "9a375cb2",
   "metadata": {},
   "outputs": [
    {
     "name": "stdout",
     "output_type": "stream",
     "text": [
      "96.62\n"
     ]
    },
    {
     "name": "stderr",
     "output_type": "stream",
     "text": [
      "<ipython-input-12-74216d9d2a86>:7: FutureWarning: Automatic reindexing on DataFrame vs Series comparisons is deprecated and will raise ValueError in a future version.  Do `left, right = left.align(right, axis=1, copy=False)` before e.g. `left == right`\n",
      "  outliers = shop_stores[((shop_stores < lower_limit) | ((shop_stores > upper_limit))).any(axis=1)]\n",
      "<ipython-input-12-74216d9d2a86>:7: FutureWarning: Automatic reindexing on DataFrame vs Series comparisons is deprecated and will raise ValueError in a future version.  Do `left, right = left.align(right, axis=1, copy=False)` before e.g. `left == right`\n",
      "  outliers = shop_stores[((shop_stores < lower_limit) | ((shop_stores > upper_limit))).any(axis=1)]\n"
     ]
    }
   ],
   "source": [
    "# (i) Define two new variables, Lower_Limit and Upper_Limit\n",
    "\n",
    "lower_limit = Q1-1.5*IQR\n",
    "upper_limit = Q3+1.5*IQR\n",
    "\n",
    "# Filter the raw dataframe to include only the outliers\n",
    "outliers = shop_stores[((shop_stores < lower_limit) | ((shop_stores > upper_limit))).any(axis=1)]\n",
    "\n",
    "# Percentage of data left after we remove outliers\n",
    "outliers_percent= 100*len(outliers)/len(shop_stores)\n",
    "shop_stores_percent_left = 100-outliers_percent\n",
    "\n",
    "print(shop_stores_percent_left)\n"
   ]
  },
  {
   "cell_type": "markdown",
   "id": "0b2036e6",
   "metadata": {},
   "source": [
    "We have 96.62% of our data left. While this is still considered a good amount of data points left, we miss out on important information. For example our calculation would exclude specifically two shops withs ids 42 and 78"
   ]
  },
  {
   "cell_type": "markdown",
   "id": "321689da",
   "metadata": {},
   "source": [
    "#### Question 3 and Answer to What is its value?"
   ]
  },
  {
   "cell_type": "code",
   "execution_count": 13,
   "id": "feff866c",
   "metadata": {},
   "outputs": [
    {
     "name": "stdout",
     "output_type": "stream",
     "text": [
      "The better measure of central tendency is the median and the median order value is\n",
      "284.0\n"
     ]
    }
   ],
   "source": [
    "# Calculate the median of the order amount\n",
    "print(\"The better measure of central tendency is the median and the median order value is\")\n",
    "print(shop_stores['order_amount'].median())"
   ]
  },
  {
   "cell_type": "markdown",
   "id": "afebeb5b",
   "metadata": {},
   "source": [
    "\n",
    "\n",
    "### Part 2\n",
    "#### a) How many orders were shipped by Speedy Express in total?\n"
   ]
  },
  {
   "cell_type": "code",
   "execution_count": null,
   "id": "78a28116",
   "metadata": {},
   "outputs": [],
   "source": [
    "SELECT ShipperName, COUNT(O.ShipperID) AS Orders_Shipped\n",
    "FROM Orders o\n",
    "INNER JOIN Shippers s\n",
    "ON o.ShipperID = s.ShipperID\n",
    "WHERE ShipperName = 'Speedy Express'\n",
    "Group by o.ShipperID"
   ]
  },
  {
   "cell_type": "markdown",
   "id": "3cfe363f",
   "metadata": {},
   "source": [
    "Speedy Express had 54 orders shipped in total"
   ]
  },
  {
   "cell_type": "markdown",
   "id": "92e1abeb",
   "metadata": {},
   "source": [
    "#### b) What is the last name of the employee with the most orders?"
   ]
  },
  {
   "cell_type": "code",
   "execution_count": null,
   "id": "80049a08",
   "metadata": {},
   "outputs": [],
   "source": [
    "SELECT o.EmployeeID, e.LastName, COUNT(o.OrderID) AS Total_Orders\n",
    "FROM Orders o\n",
    "INNER JOIN Employees e\n",
    "ON o.EmployeeID = e.EmployeeID\n",
    "GROUP BY o.EmployeeID\n",
    "ORDER BY Total_Orders DESC\n",
    "LIMIT 1"
   ]
  },
  {
   "cell_type": "markdown",
   "id": "87046c73",
   "metadata": {},
   "source": [
    "The last name of the employee with bthe most orders is Peacock and total orders from Peacock is 40"
   ]
  },
  {
   "cell_type": "markdown",
   "id": "f94c67f7",
   "metadata": {},
   "source": [
    "#### c) What product was ordered the most by customers in Germany?"
   ]
  },
  {
   "cell_type": "code",
   "execution_count": null,
   "id": "1f7afbf7",
   "metadata": {},
   "outputs": [],
   "source": [
    "SELECT sum(od.Quantity) as Total_Orders, p.ProductName FROM OrderDetails od\n",
    "LEFT JOIN Products p ON p.ProductID = od.ProductID\n",
    "LEFT JOIN Orders o ON o.OrderID = od.OrderID\n",
    "LEFT JOIN Customers c ON c.CustomerID = o.CustomerID\n",
    "WHERE c.Country = 'Germany' GROUP BY p.ProductName ORDER BY Total_Orders DESC\n",
    "LIMIT 1"
   ]
  },
  {
   "cell_type": "markdown",
   "id": "0d0e7993",
   "metadata": {},
   "source": [
    "The Boston Crab meat was ordered the most by customers in Germany"
   ]
  }
 ],
 "metadata": {
  "kernelspec": {
   "display_name": "Python 3",
   "language": "python",
   "name": "python3"
  },
  "language_info": {
   "codemirror_mode": {
    "name": "ipython",
    "version": 3
   },
   "file_extension": ".py",
   "mimetype": "text/x-python",
   "name": "python",
   "nbconvert_exporter": "python",
   "pygments_lexer": "ipython3",
   "version": "3.8.8"
  }
 },
 "nbformat": 4,
 "nbformat_minor": 5
}
